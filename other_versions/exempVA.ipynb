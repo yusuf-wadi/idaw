{
  "cells": [
    {
      "cell_type": "code",
      "execution_count": null,
      "metadata": {},
      "outputs": [],
      "source": [
        "import speech_recognition as sr # recognise speech\n",
        "import playsound # to play an audio file\n",
        "import pyttsx3\n",
        "import random\n",
        "import datetime\n",
        "import webbrowser # open browser\n",
        "import yfinance as yf # to fetch financial data\n",
        "import ssl\n",
        "import certifi\n",
        "import time\n",
        "import os # to remove created audio files\n"
      ]
    },
    {
      "cell_type": "code",
      "execution_count": null,
      "metadata": {},
      "outputs": [],
      "source": [
        "\n",
        "engine = pyttsx3.init()\n",
        "voices = engine.getProperty('voices')\n",
        "engine.setProperty('voice', voices[0].id)\n"
      ]
    },
    {
      "cell_type": "code",
      "execution_count": null,
      "metadata": {},
      "outputs": [],
      "source": [
        "\n",
        "class person:\n",
        "    name = ''\n",
        "    def setName(self, name):\n",
        "        self.name = name\n"
      ]
    },
    {
      "cell_type": "code",
      "execution_count": null,
      "metadata": {},
      "outputs": [],
      "source": [
        "\n",
        "def there_exists(terms):\n",
        "    for term in terms:\n",
        "        if term in voice_data:\n",
        "            return True\n"
      ]
    },
    {
      "cell_type": "code",
      "execution_count": null,
      "metadata": {},
      "outputs": [],
      "source": [
        "\n",
        "r = sr.Recognizer() # initialise a recogniser\n",
        "# listen for audio and convert it to text:\n",
        "def record_audio(ask=False):\n",
        "    with sr.Microphone() as source: # microphone as source\n",
        "        if ask:\n",
        "            speak(ask)\n",
        "        audio = r.listen(source)  # listen for the audio via source\n",
        "        voice_data = ''\n",
        "        try:\n",
        "            voice_data = r.recognize_google(audio)  # convert audio to text\n",
        "        except sr.UnknownValueError: # error: recognizer does not understand\n",
        "            playsound(\"softbeep.mp3\")\n",
        "        except sr.RequestError:\n",
        "            speak('Sorry, the service is down') # error: recognizer is not connected\n",
        "        print(f\">> {voice_data.lower()}\") # print what user said\n",
        "        return voice_data.lower()\n"
      ]
    },
    {
      "cell_type": "code",
      "execution_count": null,
      "metadata": {},
      "outputs": [],
      "source": [
        "\n",
        "# get string and make a audio file to be played\n",
        "def speak(audio_string):\n",
        "    engine.say(audio_string)\n",
        "    engine.runAndWait()\n",
        "    \n",
        "\n",
        "def respond(voice_data):\n",
        "    # 1: greeting\n",
        "    if there_exists(['hey','hi','hello']):\n",
        "        greetings = [f\"hey, how can I help you {person_obj.name}\", f\"hey, what's up? {person_obj.name}\", f\"I'm listening {person_obj.name}\", f\"how can I help you? {person_obj.name}\", f\"hello {person_obj.name}\"]\n",
        "        greet = greetings[random.randint(0,len(greetings)-1)]\n",
        "        speak(greet)\n",
        "\n",
        "    # 2: name\n",
        "    if there_exists([\"what is your name\",\"what's your name\",\"tell me your name\"]):\n",
        "        if person_obj.name:\n",
        "            speak(\"my name is Alexis\")\n",
        "        else:\n",
        "            speak(\"my name is Alexis. what's your name?\")\n",
        "\n",
        "    if there_exists([\"my name is\"]):\n",
        "        person_name = voice_data.split(\"is\")[-1].strip()\n",
        "        speak(f\"okay, i will remember that {person_name}\")\n",
        "        person_obj.setName(person_name) # remember name in person object\n",
        "\n",
        "    # 3: greeting\n",
        "    if there_exists([\"how are you\",\"how are you doing\"]):\n",
        "        speak(f\"I'm very well, thanks for asking {person_obj.name}\")\n",
        "\n",
        "    # 4: time\n",
        "    if there_exists([\"what's the time\",\"tell me the time\",\"what time is it\"]):\n",
        "        e = datetime.datetime.now()\n",
        "        speak(\"The time is now: = %s:%s\" % (e.hour, e.minute))\n",
        "\n",
        "    # 5: search google\n",
        "    if there_exists([\"search for\"]) and 'youtube' not in voice_data:\n",
        "        search_term = voice_data.split(\"for\")[-1]\n",
        "        url = f\"https://google.com/search?q={search_term}\"\n",
        "        webbrowser.get().open(url)\n",
        "        speak(f'Here is what I found for {search_term} on google')\n",
        "\n",
        "    # 6: search youtube\n",
        "    if there_exists([\"youtube\"]):\n",
        "        search_term = voice_data.split(\"for\")[-1]\n",
        "        url = f\"https://www.youtube.com/results?search_query={search_term}\"\n",
        "        webbrowser.get().open(url)\n",
        "        speak(f'Here is what I found for {search_term} on youtube')\n",
        "\n",
        "    # 7: get stock price\n",
        "    if there_exists([\"price of\"]):\n",
        "        search_term = voice_data.lower().split(\" of \")[-1].strip() #strip removes whitespace after/before a term in string\n",
        "        stocks = {\n",
        "            \"apple\":\"AAPL\",\n",
        "            \"microsoft\":\"MSFT\",\n",
        "            \"facebook\":\"FB\",\n",
        "            \"tesla\":\"TSLA\",\n",
        "            \"bitcoin\":\"BTC-USD\"\n",
        "        }\n",
        "        try:\n",
        "            stock = stocks[search_term]\n",
        "            stock = yf.Ticker(stock)\n",
        "            price = stock.info[\"regularMarketPrice\"]\n",
        "\n",
        "            speak(f'price of {search_term} is {price} {stock.info[\"currency\"]} {person_obj.name}')\n",
        "        except:\n",
        "            speak('oops, something went wrong')\n",
        "    if there_exists([\"exit\", \"quit\", \"goodbye\"]):\n",
        "        speak(\"going offline\")\n",
        "        exit()\n",
        "\n",
        "\n",
        "time.sleep(1)\n",
        "\n",
        "person_obj = person()\n",
        "while(1):\n",
        "    voice_data = record_audio() # get the voice input\n",
        "    respond(voice_data) # respond\n",
        "\n"
      ]
    }
  ],
  "metadata": {
    "anaconda-cloud": {},
    "kernelspec": {
      "display_name": "Python 3.10.6 64-bit",
      "language": "python",
      "name": "python3"
    },
    "language_info": {
      "codemirror_mode": {
        "name": "ipython",
        "version": 3
      },
      "file_extension": ".py",
      "mimetype": "text/x-python",
      "name": "python",
      "nbconvert_exporter": "python",
      "pygments_lexer": "ipython3",
      "version": "3.10.6"
    },
    "vscode": {
      "interpreter": {
        "hash": "aa66cff0e5ae32d77d72462d7ae697218f766852b9c548e64c3db10232013247"
      }
    }
  },
  "nbformat": 4,
  "nbformat_minor": 4
}
