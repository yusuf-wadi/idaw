{
  "cells": [
    {
      "cell_type": "code",
      "execution_count": 29,
      "metadata": {},
      "outputs": [],
      "source": [
        "from selenium import webdriver\n",
        "from selenium.webdriver.common.action_chains import ActionChains\n",
        "from selenium.webdriver.common.keys import Keys\n",
        "from webdriver_manager.chrome import ChromeDriverManager\n",
        "import speech_recognition as sr\n",
        "import pyttsx3\n",
        "import openai\n",
        "import requests\n",
        "import json\n",
        "from bs4 import BeautifulSoup as bs\n",
        "from difflib import SequenceMatcher\n",
        "import subprocess\n",
        "import random\n",
        "import datetime\n",
        "import ssl\n",
        "import certifi\n",
        "import sys\n",
        "import re\n"
      ]
    },
    {
      "cell_type": "code",
      "execution_count": 30,
      "metadata": {},
      "outputs": [],
      "source": [
        "class person:\n",
        "    name = ''\n",
        "    def setName(self, name):\n",
        "        self.name = name"
      ]
    },
    {
      "cell_type": "code",
      "execution_count": 31,
      "metadata": {},
      "outputs": [],
      "source": [
        "\n",
        "openai.api_key_path = \"../key.txt\"\n",
        "cur_model = \"text-davinci-002\"\n",
        "steam_name=\"yusufwadi\"\n",
        "web= False\n",
        "\n",
        "r3 = sr.Recognizer()\n",
        "engine = pyttsx3.init()\n",
        "voices = engine.getProperty('voices')\n",
        "engine.setProperty('voice', voices[0].id)\n",
        "\n",
        "imgs = [\"image\", \"picture\", \"photo\", \"landscape\", \"painting\", \"drawing\", \"art\"]\n",
        "exits = [\"quit\",\"exit\",\"close\"]\n",
        "person_obj = person()"
      ]
    },
    {
      "cell_type": "code",
      "execution_count": 32,
      "metadata": {},
      "outputs": [],
      "source": [
        "# Create new automated instance of Brave\n",
        "def runWeb():\n",
        "    if web == False:\n",
        "            # Define Brave path\n",
        "        brave_path = \"C:/Program Files/BraveSoftware/Brave-Browser-Nightly/Application/brave.exe\"\n",
        "        options = webdriver.ChromeOptions()\n",
        "        options.binary_location = brave_path\n",
        "\n",
        "        # set dl options\n",
        "        prefs = {\"download.default_directory\": \"C:/Users/thewa/Desktop/projects/computational_neuroscience/AI_ML/projects/mun_ching/crawlers/content\"}\n",
        "\n",
        "        options.add_experimental_option(\"prefs\", prefs)\n",
        "        options.add_experimental_option(\"detach\", True)\n",
        "        driver = webdriver.Chrome(ChromeDriverManager().install(), options=options)\n",
        "        return driver\n",
        "    else:\n",
        "        body = driver.find_element(\"tag name\", \"body\")\n",
        "        body.send_keys(Keys.CONTROL + 't')"
      ]
    },
    {
      "cell_type": "code",
      "execution_count": 33,
      "metadata": {},
      "outputs": [],
      "source": [
        "def callGPT(prompt,tokens,model=cur_model):\n",
        "\n",
        "    completion = openai.Completion.create(\n",
        "        model=model,\n",
        "        prompt=prompt,\n",
        "        temperature=0,\n",
        "        frequency_penalty=0.5,\n",
        "        max_tokens=tokens,\n",
        "\n",
        "    )\n",
        "\n",
        "    response =\" \".join(re.findall(\"[a-zA-Z]+\", completion.choices[0].text))\n",
        "    response = str(response)\n",
        "    \n",
        "    return response\n"
      ]
    },
    {
      "cell_type": "code",
      "execution_count": 34,
      "metadata": {},
      "outputs": [],
      "source": [
        "\n",
        "def getGame(response):\n",
        "\n",
        "    URL = \"https://steamcommunity.com/id/\" + steam_name + \"/games?tab=all&xml=1\"\n",
        "    data = requests.get(url=URL)\n",
        "    soup = bs(data.text, 'xml')\n",
        "    names = soup.find_all(\"name\")\n",
        "    response = response.lower()\n",
        "\n",
        "    for name in names:\n",
        "\n",
        "        if ((SequenceMatcher(a=response, b=name.text.lower()).ratio()) > 0.70):\n",
        "            engine.say(f\"Now launching... {name.text}\")\n",
        "            engine.runAndWait()\n",
        "            print(name.text)\n",
        "            return name.parent.find(\"appID\").text\n",
        "\n",
        "    print(\"Game not found\")\n",
        "\n",
        "    # print(\"hello\")\n",
        "#getGame(\"no mans sky\")\n"
      ]
    },
    {
      "cell_type": "code",
      "execution_count": 35,
      "metadata": {},
      "outputs": [],
      "source": [
        "def smartSearch(listen=False,keyword=\"\"):\n",
        "    if listen==True:\n",
        "        r3=sr.Recognizer()\n",
        "        with sr.Microphone() as source:\n",
        "            audio = r3.listen(source,phrase_time_limit=4)\n",
        "            keyword = r3.recognize_google(audio)\n",
        "    else:\n",
        "\n",
        "        YOUR_PROMPT = f\"Extract a search query from the following prompt: '{keyword}'\"\n",
        "\n",
        "        response = callGPT(YOUR_PROMPT,20)\n",
        "\n",
        "        return response\n"
      ]
    },
    {
      "cell_type": "code",
      "execution_count": 36,
      "metadata": {},
      "outputs": [],
      "source": [
        "def smartListen(command):\n",
        "    r3=sr.Recognizer()\n",
        "    with sr.Microphone() as source: \n",
        "        audio = r3.listen(source,phrase_time_limit=4)\n",
        "        keyword = r3.recognize_google(audio)\n",
        "\n",
        "        YOUR_PROMPT = \" \" + '\"' + keyword + '\"'\n",
        "\n",
        "        response = callGPT(YOUR_PROMPT,20)\n",
        "        print(response)\n",
        "        return response\n"
      ]
    },
    {
      "cell_type": "code",
      "execution_count": 37,
      "metadata": {},
      "outputs": [],
      "source": [
        "def intent(command):\n",
        "    prompt = f\"Extract a one word intent from the following prompt: '{command}'\"\n",
        "    response = callGPT(prompt,10)\n",
        "    return response"
      ]
    },
    {
      "cell_type": "code",
      "execution_count": 38,
      "metadata": {},
      "outputs": [],
      "source": [
        "def speak(audio_string):\n",
        "    engine = pyttsx3.init()\n",
        "    voices = engine.getProperty('voices')\n",
        "    engine.setProperty('voice', voices[0].id)\n",
        "    engine.say(audio_string)\n",
        "    engine.runAndWait()"
      ]
    },
    {
      "cell_type": "code",
      "execution_count": 39,
      "metadata": {},
      "outputs": [],
      "source": [
        "\n",
        "from time import time\n",
        "\n",
        "\n",
        "def listening(tts=\"\"):\n",
        "    with sr.Microphone() as source:\n",
        "        r3 = sr.Recognizer()\n",
        "        r3.adjust_for_ambient_noise(source,duration=0.2)\n",
        "        speak(tts)\n",
        "        audio = r3.listen(source,timeout=5)\n",
        "        voice=\"\"\n",
        "        try:\n",
        "            voice= r3.recognize_google(audio)  # convert audio to text\n",
        "        except sr.UnknownValueError: # error: recognizer does not understand\n",
        "            print(\"...\")\n",
        "            \n",
        "        except sr.RequestError:\n",
        "            speak('Sorry, the service is down')\n",
        "        print(f\">> {voice.lower()}\")\n",
        "        return voice\n",
        "        "
      ]
    },
    {
      "cell_type": "code",
      "execution_count": 40,
      "metadata": {},
      "outputs": [],
      "source": [
        "\n",
        "\n",
        "def respond(command):\n",
        "    \n",
        "    r3 = sr.Recognizer()\n",
        "    if command == \"\":\n",
        "        return None\n",
        "    else:\n",
        "        c_intent = intent(command)\n",
        "        print(c_intent)\n",
        "    command = command.lower()\n",
        "    c_intent = c_intent.lower()\n",
        "\n",
        "    if c_intent == \"search\":\n",
        "        if 'youtube' in command:\n",
        "\n",
        "            response = smartSearch(keyword=command)\n",
        "            say = f\"Here is what I found for {response}\"\n",
        "            speak(say)\n",
        "            driver = runWeb()\n",
        "            driver.get(f'https://www.youtube.com/results?search_query={response}')\n",
        "            driver.maximize_window()\n",
        "            \n",
        "        elif 'google' in command:\n",
        "            driver =  runWeb()\n",
        "            driver.get('https://www.google.com/')\n",
        "            driver.maximize_window()        \n",
        "            response = smartSearch()\n",
        "        \n",
        "\n",
        "            elem = driver.find_element('xpath', '//input[@class=\"gLFyf gsfi\"]')\n",
        "            elem.click()\n",
        "            elem.send_keys(response, Keys.RETURN)\n",
        "\n",
        "    #game\n",
        "    elif c_intent == \"play\":\n",
        "\n",
        "        print(command)\n",
        "\n",
        "        prompt = f\"Extract the name of the game from the prompt: {command}\"\n",
        "\n",
        "        response = callGPT(prompt,20)\n",
        "\n",
        "        gameID = getGame(response)\n",
        "\n",
        "        subprocess.call([r'../batch/steam.bat', gameID])\n",
        "\n",
        "        # tryAudio(audio)\n",
        "    # 1: greeting\n",
        "    elif c_intent == \"greeting\":\n",
        "        greetings = [f\"hey, how can I help you {person_obj.name}\", f\"hey, what's up? {person_obj.name}\", f\"I'm listening {person_obj.name}\", f\"how can I help you? {person_obj.name}\", f\"hello {person_obj.name}\"]\n",
        "        greet = greetings[random.randint(0,len(greetings)-1)]\n",
        "        speak(greet)\n",
        "\n",
        "    # 2: name\n",
        "    elif c_intent == \"name\" and \"what\" in command:\n",
        "        if person_obj.name:\n",
        "            speak(\"my name is Idaw\")\n",
        "        else:\n",
        "            speak(\"my name is Idaw. what's your name?\")\n",
        "\n",
        "    elif c_intent == \"name\":\n",
        "        person_name = command.split(\"is\")[-1].strip()\n",
        "        speak(f\"okay, i will remember that {person_name}\")\n",
        "        person_obj.setName(person_name) # remember name in person object\n",
        "    # 4: time\n",
        "    elif c_intent == \"time\":\n",
        "        e = datetime.datetime.now()\n",
        "        speak(\"The time is now: = %s:%s\" % (e.hour, e.minute))\n",
        "\n",
        "    # 7: get stock price\n",
        "    elif c_intent == \"price\":\n",
        "        search_term = command.lower().split(\" of \")[-1].strip() #strip removes whitespace after/before a term in string\n",
        "        stocks = {\n",
        "            \"apple\":\"AAPL\",\n",
        "            \"microsoft\":\"MSFT\",\n",
        "            \"facebook\":\"FB\",\n",
        "            \"tesla\":\"TSLA\",\n",
        "            \"bitcoin\":\"BTC-USD\"\n",
        "        }\n",
        "        try:\n",
        "            stock = stocks[search_term]\n",
        "            stock = yf.Ticker(stock)\n",
        "            price = stock.info[\"regularMarketPrice\"]\n",
        "\n",
        "            speak(f'price of {search_term} is {price} {stock.info[\"currency\"]} {person_obj.name}')\n",
        "        except:\n",
        "            speak('oops, something went wrong')\n",
        "    elif c_intent == \"exit\" or c_intent == \"stop\":\n",
        "        speak(\"going offline\")\n",
        "        sys.exit(0)"
      ]
    },
    {
      "cell_type": "code",
      "execution_count": 41,
      "metadata": {},
      "outputs": [
        {
          "name": "stdout",
          "output_type": "stream",
          "text": [
            "game\n",
            "The intent from the word play\n",
            "The intent from this prompt is play\n",
            "The intent of the word exit\n"
          ]
        },
        {
          "ename": "KeyboardInterrupt",
          "evalue": "Interrupted by user",
          "output_type": "error",
          "traceback": [
            "\u001b[1;31m---------------------------------------------------------------------------\u001b[0m",
            "\u001b[1;31mKeyboardInterrupt\u001b[0m                         Traceback (most recent call last)",
            "\u001b[1;32mc:\\Users\\thewa\\Desktop\\projects\\python\\virutal_assist\\vaVersions\\idaw.ipynb Cell 13\u001b[0m in \u001b[0;36m<cell line: 8>\u001b[1;34m()\u001b[0m\n\u001b[0;32m      <a href='vscode-notebook-cell:/c%3A/Users/thewa/Desktop/projects/python/virutal_assist/vaVersions/idaw.ipynb#X15sZmlsZQ%3D%3D?line=6'>7</a>\u001b[0m speak(\u001b[39m\"\u001b[39m\u001b[39mWhat can I help with today?\u001b[39m\u001b[39m\"\u001b[39m)\n\u001b[0;32m      <a href='vscode-notebook-cell:/c%3A/Users/thewa/Desktop/projects/python/virutal_assist/vaVersions/idaw.ipynb#X15sZmlsZQ%3D%3D?line=7'>8</a>\u001b[0m \u001b[39mwhile\u001b[39;00m(\u001b[39m1\u001b[39m):\n\u001b[1;32m----> <a href='vscode-notebook-cell:/c%3A/Users/thewa/Desktop/projects/python/virutal_assist/vaVersions/idaw.ipynb#X15sZmlsZQ%3D%3D?line=8'>9</a>\u001b[0m         phrase\u001b[39m=\u001b[39m\u001b[39minput\u001b[39;49m(\u001b[39m\"\u001b[39;49m\u001b[39menter input: \u001b[39;49m\u001b[39m\"\u001b[39;49m)\n\u001b[0;32m     <a href='vscode-notebook-cell:/c%3A/Users/thewa/Desktop/projects/python/virutal_assist/vaVersions/idaw.ipynb#X15sZmlsZQ%3D%3D?line=9'>10</a>\u001b[0m         respond(phrase)\n",
            "File \u001b[1;32mc:\\Users\\thewa\\AppData\\Local\\Programs\\Python\\Python310\\lib\\site-packages\\ipykernel\\kernelbase.py:1177\u001b[0m, in \u001b[0;36mKernel.raw_input\u001b[1;34m(self, prompt)\u001b[0m\n\u001b[0;32m   1173\u001b[0m \u001b[39mif\u001b[39;00m \u001b[39mnot\u001b[39;00m \u001b[39mself\u001b[39m\u001b[39m.\u001b[39m_allow_stdin:\n\u001b[0;32m   1174\u001b[0m     \u001b[39mraise\u001b[39;00m StdinNotImplementedError(\n\u001b[0;32m   1175\u001b[0m         \u001b[39m\"\u001b[39m\u001b[39mraw_input was called, but this frontend does not support input requests.\u001b[39m\u001b[39m\"\u001b[39m\n\u001b[0;32m   1176\u001b[0m     )\n\u001b[1;32m-> 1177\u001b[0m \u001b[39mreturn\u001b[39;00m \u001b[39mself\u001b[39;49m\u001b[39m.\u001b[39;49m_input_request(\n\u001b[0;32m   1178\u001b[0m     \u001b[39mstr\u001b[39;49m(prompt),\n\u001b[0;32m   1179\u001b[0m     \u001b[39mself\u001b[39;49m\u001b[39m.\u001b[39;49m_parent_ident[\u001b[39m\"\u001b[39;49m\u001b[39mshell\u001b[39;49m\u001b[39m\"\u001b[39;49m],\n\u001b[0;32m   1180\u001b[0m     \u001b[39mself\u001b[39;49m\u001b[39m.\u001b[39;49mget_parent(\u001b[39m\"\u001b[39;49m\u001b[39mshell\u001b[39;49m\u001b[39m\"\u001b[39;49m),\n\u001b[0;32m   1181\u001b[0m     password\u001b[39m=\u001b[39;49m\u001b[39mFalse\u001b[39;49;00m,\n\u001b[0;32m   1182\u001b[0m )\n",
            "File \u001b[1;32mc:\\Users\\thewa\\AppData\\Local\\Programs\\Python\\Python310\\lib\\site-packages\\ipykernel\\kernelbase.py:1219\u001b[0m, in \u001b[0;36mKernel._input_request\u001b[1;34m(self, prompt, ident, parent, password)\u001b[0m\n\u001b[0;32m   1216\u001b[0m             \u001b[39mbreak\u001b[39;00m\n\u001b[0;32m   1217\u001b[0m \u001b[39mexcept\u001b[39;00m \u001b[39mKeyboardInterrupt\u001b[39;00m:\n\u001b[0;32m   1218\u001b[0m     \u001b[39m# re-raise KeyboardInterrupt, to truncate traceback\u001b[39;00m\n\u001b[1;32m-> 1219\u001b[0m     \u001b[39mraise\u001b[39;00m \u001b[39mKeyboardInterrupt\u001b[39;00m(\u001b[39m\"\u001b[39m\u001b[39mInterrupted by user\u001b[39m\u001b[39m\"\u001b[39m) \u001b[39mfrom\u001b[39;00m \u001b[39mNone\u001b[39m\n\u001b[0;32m   1220\u001b[0m \u001b[39mexcept\u001b[39;00m \u001b[39mException\u001b[39;00m:\n\u001b[0;32m   1221\u001b[0m     \u001b[39mself\u001b[39m\u001b[39m.\u001b[39mlog\u001b[39m.\u001b[39mwarning(\u001b[39m\"\u001b[39m\u001b[39mInvalid Message:\u001b[39m\u001b[39m\"\u001b[39m, exc_info\u001b[39m=\u001b[39m\u001b[39mTrue\u001b[39;00m)\n",
            "\u001b[1;31mKeyboardInterrupt\u001b[0m: Interrupted by user"
          ]
        }
      ],
      "source": [
        "##      main loop\n",
        "\n",
        "speak(\"What can I help with today?\")\n",
        "while(1):\n",
        "        phrase=input(\"enter input: \")\n",
        "        respond(phrase)\n",
        "        \n",
        "\n"
      ]
    },
    {
      "cell_type": "markdown",
      "metadata": {},
      "source": [
        "# Voice Assist"
      ]
    }
  ],
  "metadata": {
    "anaconda-cloud": {},
    "kernelspec": {
      "display_name": "Python 3.10.6 64-bit",
      "language": "python",
      "name": "python3"
    },
    "language_info": {
      "codemirror_mode": {
        "name": "ipython",
        "version": 3
      },
      "file_extension": ".py",
      "mimetype": "text/x-python",
      "name": "python",
      "nbconvert_exporter": "python",
      "pygments_lexer": "ipython3",
      "version": "3.10.6"
    },
    "vscode": {
      "interpreter": {
        "hash": "aa66cff0e5ae32d77d72462d7ae697218f766852b9c548e64c3db10232013247"
      }
    }
  },
  "nbformat": 4,
  "nbformat_minor": 4
}
