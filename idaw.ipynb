{
  "cells": [
    {
      "cell_type": "code",
      "execution_count": 90,
      "metadata": {},
      "outputs": [],
      "source": [
        "from selenium import webdriver\n",
        "from selenium.webdriver.common.keys import Keys\n",
        "from webdriver_manager.chrome import ChromeDriverManager\n",
        "import speech_recognition as sr\n",
        "import pyttsx3\n",
        "import openai\n",
        "import requests\n",
        "import json\n",
        "\n"
      ]
    },
    {
      "cell_type": "code",
      "execution_count": 91,
      "metadata": {},
      "outputs": [
        {
          "name": "stderr",
          "output_type": "stream",
          "text": [
            "C:\\Users\\thewa\\AppData\\Local\\Temp\\ipykernel_32996\\563280776.py:17: DeprecationWarning: executable_path has been deprecated, please pass in a Service object\n",
            "  driver = webdriver.Chrome(ChromeDriverManager().install(), options=options)\n"
          ]
        }
      ],
      "source": [
        "\n",
        "\n",
        "\n",
        "openai.api_key_path = \"key.txt\"\n",
        "cur_model = \"text-davinci-002\"\n",
        "img = [\"image\", \"picture\", \"photo\", \"landscape\", \"painting\", \"drawing\", \"art\"]\n",
        "\n",
        "\n",
        "# Define Brave path\n",
        "brave_path = \"C:/Program Files/BraveSoftware/Brave-Browser-Nightly/Application/brave.exe\"\n",
        "options = webdriver.ChromeOptions()\n",
        "options.binary_location = brave_path\n",
        "\n",
        "# set dl options\n",
        "prefs = {\"download.default_directory\": \"C:/Users/thewa/Desktop/projects/computational_neuroscience/AI_ML/projects/mun_ching/crawlers/content\"}\n",
        "\n",
        "options.add_experimental_option(\"prefs\", prefs)\n",
        "\n",
        "# Create new automated instance of Brave\n",
        "driver = webdriver.Chrome(ChromeDriverManager().install(), options=options)\n"
      ]
    },
    {
      "cell_type": "code",
      "execution_count": 92,
      "metadata": {},
      "outputs": [],
      "source": [
        "def callGPT(prompt):\n",
        "\n",
        "        completion = openai.Completion.create(\n",
        "                    model=cur_model,\n",
        "                    prompt=prompt,\n",
        "                    temperature=0,\n",
        "                    frequency_penalty=0.5,\n",
        "                    max_tokens=20,\n",
        "\n",
        "\n",
        "                )\n",
        "        \n",
        "        return completion.choices[0].text\n",
        "    "
      ]
    },
    {
      "cell_type": "code",
      "execution_count": 4,
      "metadata": {},
      "outputs": [
        {
          "ename": "NameError",
          "evalue": "name 'requests' is not defined",
          "output_type": "error",
          "traceback": [
            "\u001b[1;31m---------------------------------------------------------------------------\u001b[0m",
            "\u001b[1;31mNameError\u001b[0m                                 Traceback (most recent call last)",
            "\u001b[1;32mc:\\Users\\thewa\\Desktop\\projects\\python\\virutal_assist\\idaw.ipynb Cell 4\u001b[0m in \u001b[0;36m<cell line: 13>\u001b[1;34m()\u001b[0m\n\u001b[0;32m      <a href='vscode-notebook-cell:/c%3A/Users/thewa/Desktop/projects/python/virutal_assist/idaw.ipynb#W3sZmlsZQ%3D%3D?line=8'>9</a>\u001b[0m     \u001b[39mprint\u001b[39m(data[\u001b[39m'\u001b[39m\u001b[39mappid\u001b[39m\u001b[39m'\u001b[39m])\n\u001b[0;32m     <a href='vscode-notebook-cell:/c%3A/Users/thewa/Desktop/projects/python/virutal_assist/idaw.ipynb#W3sZmlsZQ%3D%3D?line=10'>11</a>\u001b[0m     \u001b[39mreturn\u001b[39;00m data[\u001b[39m\"\u001b[39m\u001b[39mappid\u001b[39m\u001b[39m\"\u001b[39m]\n\u001b[1;32m---> <a href='vscode-notebook-cell:/c%3A/Users/thewa/Desktop/projects/python/virutal_assist/idaw.ipynb#W3sZmlsZQ%3D%3D?line=12'>13</a>\u001b[0m getGame(\u001b[39m\"\u001b[39;49m\u001b[39mMultiversus\u001b[39;49m\u001b[39m\"\u001b[39;49m)\n",
            "\u001b[1;32mc:\\Users\\thewa\\Desktop\\projects\\python\\virutal_assist\\idaw.ipynb Cell 4\u001b[0m in \u001b[0;36mgetGame\u001b[1;34m(response)\u001b[0m\n\u001b[0;32m      <a href='vscode-notebook-cell:/c%3A/Users/thewa/Desktop/projects/python/virutal_assist/idaw.ipynb#W3sZmlsZQ%3D%3D?line=2'>3</a>\u001b[0m URL \u001b[39m=\u001b[39m \u001b[39m\"\u001b[39m\u001b[39mhttps://api.steampowered.com/ISteamApps/GetAppList/v0002/\u001b[39m\u001b[39m\"\u001b[39m\n\u001b[0;32m      <a href='vscode-notebook-cell:/c%3A/Users/thewa/Desktop/projects/python/virutal_assist/idaw.ipynb#W3sZmlsZQ%3D%3D?line=3'>4</a>\u001b[0m PARAMS \u001b[39m=\u001b[39m {\u001b[39m\"\u001b[39m\u001b[39mname\u001b[39m\u001b[39m\"\u001b[39m : response}\n\u001b[1;32m----> <a href='vscode-notebook-cell:/c%3A/Users/thewa/Desktop/projects/python/virutal_assist/idaw.ipynb#W3sZmlsZQ%3D%3D?line=5'>6</a>\u001b[0m r \u001b[39m=\u001b[39m requests\u001b[39m.\u001b[39mget(url\u001b[39m=\u001b[39mURL,params\u001b[39m=\u001b[39mPARAMS)\u001b[39m.\u001b[39mjson()\n\u001b[0;32m      <a href='vscode-notebook-cell:/c%3A/Users/thewa/Desktop/projects/python/virutal_assist/idaw.ipynb#W3sZmlsZQ%3D%3D?line=6'>7</a>\u001b[0m data \u001b[39m=\u001b[39m json\u001b[39m.\u001b[39mloads(r)\n\u001b[0;32m      <a href='vscode-notebook-cell:/c%3A/Users/thewa/Desktop/projects/python/virutal_assist/idaw.ipynb#W3sZmlsZQ%3D%3D?line=8'>9</a>\u001b[0m \u001b[39mprint\u001b[39m(data[\u001b[39m'\u001b[39m\u001b[39mappid\u001b[39m\u001b[39m'\u001b[39m])\n",
            "\u001b[1;31mNameError\u001b[0m: name 'requests' is not defined"
          ]
        }
      ],
      "source": [
        "\n",
        "def getGame(response):\n",
        "    \n",
        "    URL = \"https://api.steampowered.com/ISteamApps/GetAppList/v0002/\"\n",
        "    PARAMS = {\"name\" : response}\n",
        "\n",
        "    r = requests.get(url=URL,params=PARAMS).json()\n",
        "    data = json.loads(r)\n",
        "    \n",
        "    print(data['appid'])\n",
        "\n",
        "    return data[\"appid\"]\n",
        "\n",
        "getGame(\"Multiversus\")\n",
        "\n",
        "    \n"
      ]
    },
    {
      "cell_type": "code",
      "execution_count": 93,
      "metadata": {},
      "outputs": [],
      "source": [
        "    \n",
        "# From here\n",
        "def qCommand(x):\n",
        "\n",
        "    x = x.lower()\n",
        "    r2 = sr.Recognizer()\n",
        "   \n",
        "    if 'youtube' in x:\n",
        "    \n",
        "           \n",
        "            driver.get('https://www.youtube.com/')\n",
        "\n",
        "            with sr.Microphone() as source:\n",
        "                engine.say(\"What do you want to see?\")\n",
        "                engine.runAndWait()\n",
        "                print('')\n",
        "                audio = r2.listen(source)\n",
        "                keyword = r2.recognize_google(audio)\n",
        "                print(keyword)\n",
        "      \n",
        "\n",
        "            YOUR_PROMPT = \"Extract a search query from the following prompt: \" + '\"' + keyword + '\"'\n",
        " \n",
        "            response = callGPT(YOUR_PROMPT)\n",
        "\n",
        "\n",
        "\n",
        "            elem = driver.find_element('xpath', '//input[@id=\"search\"]')\n",
        "            elem.click()\n",
        "            elem.send_keys(response, Keys.RETURN)\n",
        "\n",
        "                \n",
        "\n",
        "            try:\n",
        "                get = r2.recognize_google(audio)\n",
        "                print(get)\n",
        "            except sr.UnknownValueError:\n",
        "                print('Client side error')\n",
        "            except sr.RequestError:\n",
        "                print('Error on my side')\n",
        "\n",
        "            # Till here is the code to run a YouTube vid\n",
        "    elif 'google' in x:\n",
        "           \n",
        "            driver.get('https://www.google.com/')\n",
        "\n",
        "            with sr.Microphone() as source:\n",
        "                engine.say(\"What do you want to search for?\")\n",
        "                engine.runAndWait()\n",
        "                print('')\n",
        "                audio = r2.listen(source,timeout=5)\n",
        "                keyword = r2.recognize_google(audio)\n",
        "                print(keyword)\n",
        "            YOUR_PROMPT = \"Extract a search query from the following prompt: \" + '\"' + keyword + '\"'\n",
        "\n",
        "            completion = openai.Completion.create(\n",
        "                model=cur_model,\n",
        "                prompt=YOUR_PROMPT,\n",
        "                temperature=0,\n",
        "                frequency_penalty=0.5,\n",
        "                max_tokens=20,\n",
        "\n",
        "\n",
        "            )\n",
        "\n",
        "            response = callGPT(YOUR_PROMPT)\n",
        "\n",
        "\n",
        "\n",
        "            elem = driver.find_element('xpath', '//input[@class=\"gLFyf gsfi\"]')\n",
        "            elem.click()\n",
        "            elem.send_keys(response, Keys.RETURN)\n",
        "            \n",
        "            # if img in x:\n",
        "\n",
        "                \n",
        "    elif 'play' in x:\n",
        "\n",
        "        prompt = \"Extract the name of the game from the prompt: \" + x\n",
        "\n",
        "        response = callGPT(prompt)\n",
        "\n",
        "        gameID = getGame(response)\n",
        "\n",
        "        driver.get(\"steam://rungameid/\" + gameID)\n",
        "\n",
        "    else:\n",
        "            print(\"command not recognized\")\n",
        "\n",
        "\n",
        "    \n",
        "\n"
      ]
    },
    {
      "cell_type": "code",
      "execution_count": 94,
      "metadata": {},
      "outputs": [
        {
          "name": "stdout",
          "output_type": "stream",
          "text": [
            "Listening...\n",
            "\n",
            "show me a video about Andrew Tate\n",
            "show me a video about Andrew Tate\n"
          ]
        }
      ],
      "source": [
        "\n",
        "r1 = sr.Recognizer()\n",
        "r2 = sr.Recognizer()\n",
        "r3 = sr.Recognizer()\n",
        "\n",
        "engine = pyttsx3.init()\n",
        "voices = engine.getProperty('voices')\n",
        "engine.setProperty('voice', voices[0].id)\n",
        "\n",
        "with sr.Microphone() as source:\n",
        "    print('Listening...')\n",
        "    engine.say(\"Hello. I am Idaw. What can I do for you today?\")\n",
        "    engine.runAndWait()\n",
        "    audio = r3.listen(source)\n",
        "\n",
        "qCommand(r2.recognize_google(audio))\n"
      ]
    },
    {
      "cell_type": "markdown",
      "metadata": {},
      "source": [
        "# Voice Assist"
      ]
    }
  ],
  "metadata": {
    "anaconda-cloud": {},
    "kernelspec": {
      "display_name": "Python 3.10.6 64-bit",
      "language": "python",
      "name": "python3"
    },
    "language_info": {
      "codemirror_mode": {
        "name": "ipython",
        "version": 3
      },
      "file_extension": ".py",
      "mimetype": "text/x-python",
      "name": "python",
      "nbconvert_exporter": "python",
      "pygments_lexer": "ipython3",
      "version": "3.10.6"
    },
    "vscode": {
      "interpreter": {
        "hash": "aa66cff0e5ae32d77d72462d7ae697218f766852b9c548e64c3db10232013247"
      }
    }
  },
  "nbformat": 4,
  "nbformat_minor": 4
}
