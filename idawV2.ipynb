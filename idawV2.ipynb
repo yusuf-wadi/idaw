{
 "cells": [
  {
   "cell_type": "code",
   "execution_count": 41,
   "metadata": {},
   "outputs": [],
   "source": [
    "import datetime\n",
    "from selenium import webdriver\n",
    "from selenium.webdriver.common.action_chains import ActionChains\n",
    "from selenium.webdriver.common.keys import Keys\n",
    "from webdriver_manager.chrome import ChromeDriverManager\n",
    "import speech_recognition as sr\n",
    "import pyttsx3\n",
    "import requests\n",
    "import json\n",
    "from bs4 import BeautifulSoup as bs\n",
    "from difflib import SequenceMatcher\n",
    "import subprocess\n",
    "import random\n",
    "import openai\n",
    "import re\n",
    "from time import sleep\n",
    "import pyautogui as pg\n"
   ]
  },
  {
   "cell_type": "code",
   "execution_count": 42,
   "metadata": {},
   "outputs": [],
   "source": [
    "\n",
    "steam_name = \"yusufwadi\"\n",
    "openai.api_key_path = \"key.txt\"\n",
    "cur_model = \"text-davinci-002\"\n",
    "intents_model = \"curie:ft-valley:intents-v3-2022-09-07-21-13-43\"\n",
    "\n",
    "r3 = sr.Recognizer()\n",
    "engine = pyttsx3.init()\n",
    "voices = engine.getProperty('voices')\n",
    "engine.setProperty('voice', voices[0].id)\n"
   ]
  },
  {
   "cell_type": "code",
   "execution_count": 43,
   "metadata": {},
   "outputs": [],
   "source": [
    "class person:\n",
    "    name = ''\n",
    "\n",
    "    def setName(self, name):\n",
    "        self.name = name\n",
    "\n",
    "\n",
    "person_obj = person()\n",
    "person_obj.name = \"Wadi\"\n"
   ]
  },
  {
   "cell_type": "code",
   "execution_count": 44,
   "metadata": {},
   "outputs": [],
   "source": [
    "\n",
    "def speak(audio_string):\n",
    "    engine = pyttsx3.init()\n",
    "    voices = engine.getProperty('voices')\n",
    "    engine.setProperty('voice', voices[0].id)\n",
    "    engine.say(audio_string)\n",
    "    engine.runAndWait()\n"
   ]
  },
  {
   "cell_type": "code",
   "execution_count": 45,
   "metadata": {},
   "outputs": [],
   "source": [
    "\n",
    "def listening(tts=\"\"):\n",
    "    with sr.Microphone() as source:\n",
    "        r3 = sr.Recognizer()\n",
    "        # r3.adjust_for_ambient_noise(source,duration=0.2)\n",
    "        speak(tts)\n",
    "        audio = r3.listen(source)\n",
    "        voice = \"\"\n",
    "        if audio != None:\n",
    "            speak(\"Processing...\")\n",
    "        try:\n",
    "            voice = r3.recognize_google(audio)  # convert audio to text\n",
    "        except sr.UnknownValueError:  # error: recognizer does not understand\n",
    "            print(\"...\")\n",
    "\n",
    "        except sr.RequestError:\n",
    "            speak('Sorry, the service is down')\n",
    "        print(f\">> {voice.lower()}\")\n",
    "        return voice\n"
   ]
  },
  {
   "cell_type": "code",
   "execution_count": 46,
   "metadata": {},
   "outputs": [],
   "source": [
    "\n",
    "def callGPT(prompt, tokens, model=cur_model):\n",
    "\n",
    "    completion = openai.Completion.create(\n",
    "        model=model,\n",
    "        prompt=prompt,\n",
    "        temperature=0,\n",
    "        frequency_penalty=0.5,\n",
    "        max_tokens=tokens,\n",
    "\n",
    "    )\n",
    "\n",
    "    response = \" \".join(re.findall(\"[a-zA-Z]+\", completion.choices[0].text))\n",
    "    response = str(response)\n",
    "\n",
    "    return response\n"
   ]
  },
  {
   "cell_type": "code",
   "execution_count": 47,
   "metadata": {},
   "outputs": [],
   "source": [
    "def smartListen(command):\n",
    "    r3 = sr.Recognizer()\n",
    "    with sr.Microphone() as source:\n",
    "        audio = r3.listen(source)\n",
    "        if audio != None:\n",
    "            speak(\"Processing...\")\n",
    "        try:\n",
    "            keyword = r3.recognize_google(audio)  # convert audio to text\n",
    "        except sr.UnknownValueError:  # error: recognizer does not understand\n",
    "            print(\"...\")\n",
    "        except sr.RequestError:\n",
    "            speak('Sorry, the service is down')\n",
    "\n",
    "        print(f\">> {keyword.lower()}\")\n",
    "\n",
    "        YOUR_PROMPT = \" \" + '\"' + keyword + '\"'\n",
    "\n",
    "        response = callGPT(YOUR_PROMPT, 20)\n",
    "        print(response)\n",
    "        return response\n"
   ]
  },
  {
   "cell_type": "code",
   "execution_count": 48,
   "metadata": {},
   "outputs": [],
   "source": [
    "def smartSearch(listen=False, keyword=\"\"):\n",
    "    if listen == True:\n",
    "        r3 = sr.Recognizer()\n",
    "        with sr.Microphone() as source:\n",
    "            audio = r3.listen(source, phrase_time_limit=4)\n",
    "            keyword = r3.recognize_google(audio)\n",
    "    else:\n",
    "\n",
    "        YOUR_PROMPT = f\"Extract a search query from the following prompt: '{keyword}'\"\n",
    "\n",
    "        response = callGPT(YOUR_PROMPT, 20)\n",
    "\n",
    "        return response\n"
   ]
  },
  {
   "cell_type": "code",
   "execution_count": 49,
   "metadata": {},
   "outputs": [],
   "source": [
    "\n",
    "\n",
    "def getGame(response):\n",
    "\n",
    "    URL = \"https://steamcommunity.com/id/\" + steam_name + \"/games?tab=all&xml=1\"\n",
    "    data = requests.get(url=URL)\n",
    "    soup = bs(data.text, 'xml')\n",
    "    names = soup.find_all(\"name\")\n",
    "    response = response.lower()\n",
    "\n",
    "    for name in names:\n",
    "\n",
    "        if ((SequenceMatcher(a=response, b=name.text.lower()).ratio()) > 0.70):\n",
    "            engine.say(\"Now launching... \" + name.text)\n",
    "            engine.runAndWait()\n",
    "            print(name.text)\n",
    "            print(name.parent.find(\"appID\").text)\n",
    "\n",
    "            return name.parent.find(\"appID\").text\n",
    "    return \"\"\n"
   ]
  },
  {
   "cell_type": "code",
   "execution_count": 50,
   "metadata": {},
   "outputs": [],
   "source": [
    "\n",
    "# command functions\n",
    "\n",
    "\n",
    "def greetings():\n",
    "    greetings = [f\"hey, how can I help you {person_obj.name}\", f\"hey, what's up? {person_obj.name}\",\n",
    "                 f\"I'm listening {person_obj.name}\", f\"how can I help you? {person_obj.name}\", f\"hello {person_obj.name}\"]\n",
    "    greet = greetings[random.randint(0, len(greetings)-1)]\n",
    "    speak(greet)\n",
    "\n",
    "    return False\n"
   ]
  },
  {
   "cell_type": "code",
   "execution_count": 51,
   "metadata": {},
   "outputs": [],
   "source": [
    "\n",
    "def goodbye():\n",
    "    \n",
    "    speak(\"going offline\")\n",
    "\n",
    "    return True\n"
   ]
  },
  {
   "cell_type": "code",
   "execution_count": 52,
   "metadata": {},
   "outputs": [],
   "source": [
    "\n",
    "def play(command):\n",
    "\n",
    "    prompt = f\"Extract the name of the game from the prompt: {command}\"\n",
    "\n",
    "    response = callGPT(prompt, 20)\n",
    "\n",
    "    gameID = getGame(response)\n",
    "    try:\n",
    "        subprocess.call([r'steam.bat', gameID])\n",
    "    except TypeError:\n",
    "        print(\"GAME NOT FOUND\")\n",
    "    return False\n"
   ]
  },
  {
   "cell_type": "code",
   "execution_count": 53,
   "metadata": {},
   "outputs": [],
   "source": [
    "\n",
    "def search(command):\n",
    "    return False\n"
   ]
  },
  {
   "cell_type": "code",
   "execution_count": 54,
   "metadata": {},
   "outputs": [],
   "source": [
    "\n",
    "def time():\n",
    "    e = datetime.datetime.now()\n",
    "    speak(\"The time is now: = %s:%s\" % (e.hour, e.minute))\n",
    "    return False\n"
   ]
  },
  {
   "cell_type": "code",
   "execution_count": 55,
   "metadata": {},
   "outputs": [],
   "source": [
    "\n",
    "def to_do(command):\n",
    "    speak(\"THIS IS A TODO LIST\")\n",
    "    return False\n",
    "            \n",
    "#############"
   ]
  },
  {
   "cell_type": "code",
   "execution_count": 56,
   "metadata": {},
   "outputs": [],
   "source": [
    "def open(command):\n",
    "    if 'youtube' in command:\n",
    "\n",
    "        response = smartSearch(keyword=command)\n",
    "        say = f\"Here is what I found for {response}\"\n",
    "        speak(say)\n",
    "        driver = runWeb()\n",
    "        driver.get(f'https://www.youtube.com/results?search_query={response}')\n",
    "        driver.maximize_window()\n",
    "\n",
    "    elif 'google' in command:\n",
    "        driver = runWeb()\n",
    "        driver.get('https://www.google.com/')\n",
    "        driver.maximize_window()\n",
    "        response = smartSearch()\n",
    "\n",
    "        elem = driver.find_element('xpath', '//input[@class=\"gLFyf gsfi\"]')\n",
    "        elem.click()\n",
    "        elem.send_keys(response, Keys.RETURN)\n"
   ]
  },
  {
   "cell_type": "code",
   "execution_count": 57,
   "metadata": {},
   "outputs": [],
   "source": [
    "def close(command):\n",
    "\n",
    "    if \"exit app\" in command:\n",
    "        pg.hotkey('alt', 'f4')\n",
    "        \n",
    "    "
   ]
  },
  {
   "cell_type": "code",
   "execution_count": 58,
   "metadata": {},
   "outputs": [],
   "source": [
    "def intents(command):\n",
    "    print(command)\n",
    "    completion = openai.Completion.create(\n",
    "        model=intents_model,\n",
    "        prompt=command,\n",
    "        temperature=0,\n",
    "        frequency_penalty=0.5,\n",
    "        max_tokens=10,\n",
    "        stop=[\"->\"]\n",
    "    )\n",
    "\n",
    "    cleanComplete = completion.choices[0].text.split()[0]\n",
    "    print(cleanComplete)\n",
    "    return cleanComplete\n"
   ]
  },
  {
   "cell_type": "code",
   "execution_count": 59,
   "metadata": {},
   "outputs": [],
   "source": [
    "def controlCenter(command):\n",
    "\n",
    "    if command != \"\":\n",
    "        command = command.lower()\n",
    "        intent = intents(command + \"->\")\n",
    "    else:\n",
    "        return False\n",
    "\n",
    "    match intent:\n",
    "        case \"greeting\":\n",
    "            return greetings()\n",
    "        case \"play\":\n",
    "            return play(command)\n",
    "        case \"search\":\n",
    "            return search(command)\n",
    "        case \"todo\":\n",
    "            return to_do(command)\n",
    "        case \"time\":\n",
    "            return time()\n",
    "        case \"goodbye\":\n",
    "            return goodbye()\n",
    "        case \"open\":\n",
    "            return open(command)\n",
    "        case \"close\":\n",
    "            return close(command)\n",
    "        case _:\n",
    "            print(\"command not recognized, try again\")\n"
   ]
  },
  {
   "cell_type": "code",
   "execution_count": 60,
   "metadata": {},
   "outputs": [
    {
     "name": "stdout",
     "output_type": "stream",
     "text": [
      ">> what time is it\n",
      "what time is it->\n",
      "time\n"
     ]
    }
   ],
   "source": [
    "\n",
    "done = False\n",
    "\n",
    "speak(\"I am Idaw. What can i help with today sir?\")\n",
    "while not done:\n",
    "    message = listening()\n",
    "    done = controlCenter(message)\n"
   ]
  }
 ],
 "metadata": {
  "kernelspec": {
   "display_name": "Python 3.10.6 64-bit",
   "language": "python",
   "name": "python3"
  },
  "language_info": {
   "codemirror_mode": {
    "name": "ipython",
    "version": 3
   },
   "file_extension": ".py",
   "mimetype": "text/x-python",
   "name": "python",
   "nbconvert_exporter": "python",
   "pygments_lexer": "ipython3",
   "version": "3.10.6"
  },
  "orig_nbformat": 4,
  "vscode": {
   "interpreter": {
    "hash": "aa66cff0e5ae32d77d72462d7ae697218f766852b9c548e64c3db10232013247"
   }
  }
 },
 "nbformat": 4,
 "nbformat_minor": 2
}
